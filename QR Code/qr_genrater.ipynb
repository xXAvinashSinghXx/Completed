{
 "cells": [
  {
   "cell_type": "code",
   "execution_count": null,
   "metadata": {},
   "outputs": [],
   "source": [
    "import qrcode\n",
    "\n",
    "# Send to payment location\n",
    "file_url = \"https://drive.google.com/file/d/1jB-vSYkSqhU6RhV9H5dDRt5ITXuGSyh6/view?usp=sharing\"   \n",
    "\n",
    "# Generate the QR code\n",
    "qr = qrcode.QRCode(\n",
    "    version=1,  # Size of the QR Code\n",
    "    error_correction=qrcode.constants.ERROR_CORRECT_L,\n",
    "    box_size=10,\n",
    "    border=4,\n",
    ")\n",
    "qr.add_data(file_url)\n",
    "qr.make(fit=True)\n",
    "\n",
    "# Create and save the QR Code as an image\n",
    "img = qr.make_image(fill_color=\"black\", back_color=\"white\")\n",
    "img.save(\"qr_image.png\")\n",
    "Done = \"Created Successfully!\" \n",
    "print(Done)"
   ]
  }
 ],
 "metadata": {
  "kernelspec": {
   "display_name": "Python 3",
   "language": "python",
   "name": "python3"
  },
  "language_info": {
   "codemirror_mode": {
    "name": "ipython",
    "version": 3
   },
   "file_extension": ".py",
   "mimetype": "text/x-python",
   "name": "python",
   "nbconvert_exporter": "python",
   "pygments_lexer": "ipython3",
   "version": "3.12.1"
  }
 },
 "nbformat": 4,
 "nbformat_minor": 2
}
