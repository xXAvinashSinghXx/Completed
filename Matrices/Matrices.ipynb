{
 "cells": [
  {
   "cell_type": "code",
   "execution_count": null,
   "metadata": {},
   "outputs": [],
   "source": [
    "# sum of matrices\n",
    "matrix1 = [\n",
    "    [1,2],\n",
    "    [3,4]\n",
    "]\n",
    "matrix2 = [\n",
    "    [5,6],\n",
    "    [7,8]\n",
    "]\n",
    "result = [\n",
    "    [0,0],\n",
    "    [0,0]\n",
    "]\n",
    "for i in range(2):\n",
    "    for j in range(2):\n",
    "        result[i][j] = matrix1[i][j] + matrix2[i][j]\n",
    "\n",
    "print(\"sum of matrices:\")\n",
    "for row in result:\n",
    "    print(row)  \n"
   ]
  },
  {
   "cell_type": "code",
   "execution_count": null,
   "metadata": {},
   "outputs": [],
   "source": [
    "# difference of matrices\n",
    "matrix1 = [\n",
    "    [1,2],\n",
    "    [3,4]\n",
    "]\n",
    "matrix2 = [\n",
    "    [5,6],\n",
    "    [7,8]\n",
    "]\n",
    "result = [\n",
    "    [0,0],\n",
    "    [0,0]\n",
    "]\n",
    "for i in range(2):\n",
    "    for j in range(2):\n",
    "        result[i][j] = matrix1[i][j] - matrix2[i][j]\n",
    "\n",
    "print(\"difference of matrices:\")\n",
    "for row in result:\n",
    "    print(row)  \n"
   ]
  },
  {
   "cell_type": "code",
   "execution_count": null,
   "metadata": {},
   "outputs": [],
   "source": [
    "# product of matrices\n",
    "matrix1 = [\n",
    "    [1, 2],\n",
    "    [3, 4]\n",
    "]\n",
    "matrix2 = [\n",
    "    [5, 6],\n",
    "    [7, 8]\n",
    "]\n",
    "result = [\n",
    "    [0, 0],\n",
    "    [0, 0]\n",
    "]\n",
    "\n",
    "for i in range(2):  \n",
    "    for j in range(2): \n",
    "        for k in range(2):  \n",
    "            result[i][j] += matrix1[i][k] * matrix2[k][j]\n",
    "\n",
    "print(\"Product of matrices:\")\n",
    "for row in result:\n",
    "    print(row)\n"
   ]
  },
  {
   "cell_type": "code",
   "execution_count": null,
   "metadata": {},
   "outputs": [],
   "source": [
    "# transpose of the matrices\n",
    "matrix1 = [\n",
    "    [1, 2],\n",
    "    [3, 4]\n",
    "]\n",
    "result = [\n",
    "    [0, 0],\n",
    "    [0, 0]\n",
    "]\n",
    "for i in range(2):\n",
    "    for j in range(2):\n",
    "        result[j][i] = matrix1[i][j]\n",
    "\n",
    "print(\"Transpose of the Matrix:\")\n",
    "for row in result:\n",
    "    print(row)\n"
   ]
  }
 ],
 "metadata": {
  "kernelspec": {
   "display_name": "Python 3",
   "language": "python",
   "name": "python3"
  },
  "language_info": {
   "codemirror_mode": {
    "name": "ipython",
    "version": 3
   },
   "file_extension": ".py",
   "mimetype": "text/x-python",
   "name": "python",
   "nbconvert_exporter": "python",
   "pygments_lexer": "ipython3",
   "version": "3.12.1"
  }
 },
 "nbformat": 4,
 "nbformat_minor": 2
}
